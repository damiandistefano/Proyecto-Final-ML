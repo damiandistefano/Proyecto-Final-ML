{
 "cells": [
  {
   "cell_type": "code",
   "execution_count": 1,
   "id": "50499601",
   "metadata": {},
   "outputs": [],
   "source": [
    "import pandas as pd\n",
    "import numpy as np\n",
    "# from models import LinearReg\n",
    "# from models import Dataprocessor"
   ]
  },
  {
   "cell_type": "code",
   "execution_count": null,
   "id": "d14ddda5",
   "metadata": {},
   "outputs": [],
   "source": [
    "class Dataprocessor:\n",
    "    def __init__(self, df):\n",
    "        self.df = df\n",
    "        self.mean_std = []\n",
    "    def preprocess(self):\n",
    "        df = self.df.copy()\n",
    "\n",
    "        # 1. Limpieza básica\n",
    "        df_clean = df.drop(columns=[\"Unnamed: 0\", \"Título\", \"Descripción\"], errors=\"ignore\")\n",
    "\n",
    "        # 2. Precio en USD\n",
    "        usd_conversion_rate = 1185.26\n",
    "        df_clean[\"Precio_usd\"] = np.where(\n",
    "            df_clean[\"Moneda\"] == \"$\",\n",
    "            df_clean[\"Precio\"] / usd_conversion_rate,\n",
    "            df_clean[\"Precio\"]\n",
    "        )\n",
    "\n",
    "        # 3. Antigüedad\n",
    "        df_clean[\"Antigüedad\"] = 2025 - df_clean[\"Año\"]\n",
    "\n",
    "        # 4. Kilómetros a número\n",
    "        df_clean[\"Kilómetros\"] = (\n",
    "            df_clean[\"Kilómetros\"]\n",
    "            .astype(str)\n",
    "            .str.replace(\" km\", \"\", regex=False)\n",
    "            .str.replace(\".\", \"\", regex=False)\n",
    "            .str.replace(\",\", \"\", regex=False)\n",
    "            .astype(float)\n",
    "        )\n",
    "\n",
    "        # 5. Rellenar categóricos faltantes\n",
    "        categorical_cols = [\"Color\", \"Transmisión\", \"Motor\", \"Con cámara de retroceso\"]\n",
    "        for col in categorical_cols:\n",
    "            if col in df_clean.columns:\n",
    "                df_clean[col] = df_clean[col].fillna(\"desconocido\")\n",
    "\n",
    "        # 6. One-hot encoding (manual)\n",
    "        def one_hot_encode(df, column):\n",
    "            unique_values = df[column].unique()\n",
    "            one_hot = np.zeros((df.shape[0], len(unique_values)), dtype=float)\n",
    "            value_to_index = {val: i for i, val in enumerate(unique_values)}\n",
    "            for i, val in enumerate(df[column]):\n",
    "                one_hot[i, value_to_index[val]] = 1\n",
    "            col_names = [f\"{column}_{val}\" for val in unique_values]\n",
    "            one_hot_df = pd.DataFrame(one_hot, columns=col_names, index=df.index)\n",
    "            return one_hot_df\n",
    "\n",
    "        columns_to_encode = [\n",
    "            \"Marca\", \"Modelo\", \"Color\", \"Tipo de combustible\",\n",
    "            \"Transmisión\", \"Motor\", \"Tipo de carrocería\",\n",
    "            \"Con cámara de retroceso\", \"Tipo de vendedor\"\n",
    "        ]\n",
    "\n",
    "        encoded_parts = []\n",
    "        for col in columns_to_encode:\n",
    "            if col in df_clean.columns:\n",
    "                encoded_parts.append(one_hot_encode(df_clean, col))\n",
    "\n",
    "        df_encoded = pd.concat(encoded_parts, axis=1) if encoded_parts else pd.DataFrame(index=df_clean.index)\n",
    "\n",
    "        # 7. Eliminar columnas categóricas originales si existen\n",
    "        df_clean = df_clean.drop(columns=[col for col in columns_to_encode if col in df_clean.columns])\n",
    "        df_clean = df_clean.drop(columns=[\"Versión\", \"Moneda\"], errors=\"ignore\")\n",
    "\n",
    "        # 8. Agregar columnas codificadas\n",
    "        df_clean = pd.concat([df_clean, df_encoded], axis=1)\n",
    "\n",
    "\n",
    "        return df_clean.reset_index(drop=True)\n",
    "    def normalize(self, X):\n",
    "        for i in range(X.shape[1]):\n",
    "            col = X[:, i]\n",
    "            mean = col.mean()\n",
    "            std = col.std()\n",
    "            std = 1 if std == 0 else std\n",
    "            self.mean_std.append((mean, std))\n",
    "            X[:, i] = (col - mean) / std\n",
    "        return X\n",
    "    def normalize_new_data(self, X):\n",
    "        for i in range(X.shape[1]):\n",
    "            col = X[:, i]\n",
    "            mean = self.mean_std[i][0]\n",
    "            std = self.mean_std[i][1]\n",
    "            # std = 1 if std == 0 else std\n",
    "            X[:, i] = (col - mean) / std\n",
    "        return X\n",
    "    def get_means_std(self):\n",
    "        return self.mean_std\n",
    "    \n",
    "    \n",
    "class LinearReg:\n",
    "    def __init__(self, X, y, l1=0, l2=0):\n",
    "        self.X = np.column_stack((np.ones(X.shape[0]), X))\n",
    "        self.y = np.array(y)\n",
    "        self.W = np.zeros(self.X.shape[1])\n",
    "        self.l1 = l1\n",
    "        self.l2 = l2\n",
    "\n",
    "    def train_pinv(self, reg=0):\n",
    "        if reg == \"l2\":\n",
    "            X = self.X\n",
    "            I = np.eye(self.X.shape[1])\n",
    "            I[0, 0] = 0  # No regularizar el término de bias\n",
    "            self.W = np.linalg.inv(X.T @ X + self.l2 * I) @ X.T @ self.y\n",
    "        else:\n",
    "            U, S, vt = np.linalg.svd(self.X , full_matrices=False)\n",
    "            S_inv = np.diag(1 / S)\n",
    "            p_inv = vt.T @ S_inv @ U.T \n",
    "            self.W = p_inv @ self.y\n",
    "            \n",
    "    def gd(self, lr, reg):\n",
    "        y_pred = self.X @ self.W\n",
    "        gradient = -2 * self.X.T @ (self.y - y_pred) / len(self.y)\n",
    "        if reg == \"l1\":\n",
    "            reg_term =  self.l1 * np.sign(self.W)\n",
    "        elif reg == \"l2\":\n",
    "            reg_term = 2 * self.l2 * self.W\n",
    "        else:\n",
    "            reg_term = 0\n",
    "        self.W -= lr * (gradient + reg_term)\n",
    "        \n",
    "    def train_gd(self, lr, epochs, reg=0):\n",
    "        for _ in range(epochs):\n",
    "            self.gd(lr, reg)\n",
    "    \n",
    "    def print_W(self, feature_names):\n",
    "        for title, w in zip(feature_names, self.W):\n",
    "            print(f\"{title}: {w}\")\n",
    "        return self.W\n",
    "    \n",
    "    def predict(self, X):\n",
    "        X = np.column_stack((np.ones(X.shape[0]), X))\n",
    "        return X @ self.W\n",
    "    def mean_squared_error(self, y_true, y_pred):\n",
    "        mse = np.mean((y_true - y_pred) ** 2)\n",
    "        return mse\n",
    "    \n",
    "    def rmse(self, y_true, y_pred):\n",
    "        return np.sqrt(self.mean_squared_error(y_true, y_pred))\n",
    "\n",
    "\n",
    "\n"
   ]
  },
  {
   "cell_type": "code",
   "execution_count": 14,
   "id": "8b8e2591",
   "metadata": {},
   "outputs": [],
   "source": [
    "\n",
    "# Cargar el dataset\n",
    "df = pd.read_csv(\"pf_suvs_i302_1s2025.csv\")\n",
    "\n",
    "dp = Dataprocessor(df)\n",
    "df =pd.DataFrame(dp.preprocess())\n",
    "\n",
    "\n",
    "\n",
    "df_train = df.sample(frac=0.8, random_state=42)\n",
    "y = df[\"Precio_usd\"].values\n",
    "X = df.drop(columns=[\"Precio_usd\"]).values\n",
    "df_val = df.drop(df_train.index)\n",
    "y_val = df_val[\"Precio_usd\"].values\n",
    "X_val = df_val.drop(columns=[\"Precio_usd\"]).values\n",
    "\n",
    "dp_train = Dataprocessor(df_train)\n",
    "X = dp_train.normalize(X)\n",
    "X_val = dp_train.normalize_new_data(X_val)\n"
   ]
  },
  {
   "cell_type": "code",
   "execution_count": 15,
   "id": "30f5c81e",
   "metadata": {},
   "outputs": [
    {
     "name": "stdout",
     "output_type": "stream",
     "text": [
      "(18254, 552) (18254,)\n",
      "(3651, 552) (3651,)\n"
     ]
    }
   ],
   "source": [
    "print(X.shape, y.shape)\n",
    "print(X_val.shape, y_val.shape)"
   ]
  },
  {
   "cell_type": "code",
   "execution_count": 26,
   "id": "9f90a3af",
   "metadata": {},
   "outputs": [
    {
     "name": "stdout",
     "output_type": "stream",
     "text": [
      "RMSE: 8850.61\n"
     ]
    }
   ],
   "source": [
    "model = LinearReg(X, y,0, 0.001)\n",
    "model.train_gd(0.01, 1000, \"l2\")\n",
    "y_pred = model.predict(X_val)\n",
    "rmse = model.rmse(y_val, y_pred)\n",
    "print(f\"RMSE: {rmse:.2f}\")\n"
   ]
  },
  {
   "cell_type": "code",
   "execution_count": 27,
   "id": "a2689dac",
   "metadata": {},
   "outputs": [
    {
     "name": "stdout",
     "output_type": "stream",
     "text": [
      "RMSE con Pseudo-inversa: 8825.13\n"
     ]
    }
   ],
   "source": [
    "model.train_pinv(\"l2\")\n",
    "y_pred_pinv = model.predict(X_val)\n",
    "rmse_pinv = model.rmse(y_val, y_pred_pinv)\n",
    "print(f\"RMSE con Pseudo-inversa: {rmse_pinv:.2f}\")\n"
   ]
  },
  {
   "cell_type": "code",
   "execution_count": 28,
   "id": "698de722",
   "metadata": {},
   "outputs": [
    {
     "name": "stdout",
     "output_type": "stream",
     "text": [
      "RMSE con Pseudo-inversa: 12577.43\n"
     ]
    }
   ],
   "source": [
    "model.train_pinv()\n",
    "y_pred_pinv = model.predict(X_val)\n",
    "rmse_pinv = model.rmse(y_val, y_pred_pinv)\n",
    "print(f\"RMSE con Pseudo-inversa: {rmse_pinv:.2f}\")\n"
   ]
  }
 ],
 "metadata": {
  "kernelspec": {
   "display_name": "Python 3",
   "language": "python",
   "name": "python3"
  },
  "language_info": {
   "codemirror_mode": {
    "name": "ipython",
    "version": 3
   },
   "file_extension": ".py",
   "mimetype": "text/x-python",
   "name": "python",
   "nbconvert_exporter": "python",
   "pygments_lexer": "ipython3",
   "version": "3.9.6"
  }
 },
 "nbformat": 4,
 "nbformat_minor": 5
}
