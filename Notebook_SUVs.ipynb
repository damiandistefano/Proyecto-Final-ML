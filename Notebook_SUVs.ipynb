{
 "cells": [
  {
   "cell_type": "markdown",
   "id": "94ee05ab",
   "metadata": {},
   "source": [
    "# Proyecto Final - Precios de SUVs "
   ]
  },
  {
   "cell_type": "code",
   "execution_count": 1,
   "id": "a1334ab1",
   "metadata": {},
   "outputs": [],
   "source": [
    "%load_ext autoreload\n",
    "%autoreload 2"
   ]
  },
  {
   "cell_type": "markdown",
   "id": "56177449",
   "metadata": {},
   "source": [
    "### Analisis dataset"
   ]
  },
  {
   "cell_type": "markdown",
   "id": "cab120ed",
   "metadata": {},
   "source": [
    "-hay dos columnas precio y moneda, paso a precio en dolares\n",
    "-sacar version\n",
    "-dejaste muchas features creo\n",
    "-en ves de one hotear marcas dividir en gama baja media y alta\n",
    "-borraria color, muchas distintas y capaz poca relevancia\n",
    "-eliminaria camara de retroceso 13000 nans\n"
   ]
  },
  {
   "cell_type": "code",
   "execution_count": 2,
   "id": "077d20d0",
   "metadata": {},
   "outputs": [],
   "source": [
    "import pandas as pd\n",
    "# Cargar el dataset\n",
    "df_raw = pd.read_csv(\"dataset/raw/pf_suvs_i302_1s2025.csv\")\n",
    "df_raw = pd.DataFrame(df_raw)"
   ]
  },
  {
   "cell_type": "code",
   "execution_count": 3,
   "id": "f346dd0d",
   "metadata": {},
   "outputs": [],
   "source": [
    "from src.data_exploration import*"
   ]
  },
  {
   "cell_type": "code",
   "execution_count": 4,
   "id": "e2e17294",
   "metadata": {},
   "outputs": [
    {
     "name": "stdout",
     "output_type": "stream",
     "text": [
      "<class 'pandas.core.frame.DataFrame'>\n",
      "RangeIndex: 18254 entries, 0 to 18253\n",
      "Data columns (total 18 columns):\n",
      " #   Column                   Non-Null Count  Dtype  \n",
      "---  ------                   --------------  -----  \n",
      " 0   Unnamed: 0               18254 non-null  int64  \n",
      " 1   Marca                    18254 non-null  object \n",
      " 2   Modelo                   18254 non-null  object \n",
      " 3   Año                      18254 non-null  float64\n",
      " 4   Versión                  18254 non-null  object \n",
      " 5   Color                    17865 non-null  object \n",
      " 6   Tipo de combustible      18254 non-null  object \n",
      " 7   Puertas                  18254 non-null  float64\n",
      " 8   Transmisión              18239 non-null  object \n",
      " 9   Motor                    18216 non-null  object \n",
      " 10  Tipo de carrocería       18254 non-null  object \n",
      " 11  Con cámara de retroceso  4691 non-null   object \n",
      " 12  Kilómetros               18254 non-null  object \n",
      " 13  Título                   18254 non-null  object \n",
      " 14  Precio                   18254 non-null  float64\n",
      " 15  Moneda                   18254 non-null  object \n",
      " 16  Descripción              18254 non-null  object \n",
      " 17  Tipo de vendedor         18254 non-null  object \n",
      "dtypes: float64(3), int64(1), object(14)\n",
      "memory usage: 2.5+ MB\n",
      "None\n",
      "\n",
      "--- Resumen Estadístico ---\n",
      "         Unnamed: 0            Año       Puertas        Precio\n",
      "count  18254.000000   18254.000000  18254.000000  1.825400e+04\n",
      "mean    9126.500000    2042.796209     18.167306  1.760162e+07\n",
      "std     5269.620242    3217.260996    891.766121  1.720810e+07\n",
      "min        0.000000    1981.000000      2.000000  1.110000e+02\n",
      "25%     4563.250000    2016.000000      5.000000  3.190000e+04\n",
      "50%     9126.500000    2019.000000      5.000000  1.720000e+07\n",
      "75%    13689.750000    2024.000000      5.000000  2.995000e+07\n",
      "max    18253.000000  436694.000000  60252.000000  3.495000e+08\n",
      "\n",
      "--- Valores Faltantes ---\n",
      "Unnamed: 0                     0\n",
      "Marca                          0\n",
      "Modelo                         0\n",
      "Año                            0\n",
      "Versión                        0\n",
      "Color                        389\n",
      "Tipo de combustible            0\n",
      "Puertas                        0\n",
      "Transmisión                   15\n",
      "Motor                         38\n",
      "Tipo de carrocería             0\n",
      "Con cámara de retroceso    13563\n",
      "Kilómetros                     0\n",
      "Título                         0\n",
      "Precio                         0\n",
      "Moneda                         0\n",
      "Descripción                    0\n",
      "Tipo de vendedor               0\n",
      "dtype: int64\n",
      "\n",
      "--- Distribución de la Variable Objetivo ---\n",
      "Precio\n",
      "18000000.0    0.007231\n",
      "21000000.0    0.007012\n",
      "18500000.0    0.006738\n",
      "30000000.0    0.006300\n",
      "20000000.0    0.006081\n",
      "                ...   \n",
      "36515614.0    0.000055\n",
      "36499900.0    0.000055\n",
      "25499999.0    0.000055\n",
      "20662000.0    0.000055\n",
      "31950000.0    0.000055\n",
      "Name: proportion, Length: 2914, dtype: float64\n"
     ]
    }
   ],
   "source": [
    "\n",
    "exploratory_analysis(df_raw, target_col=\"Precio\")"
   ]
  },
  {
   "cell_type": "code",
   "execution_count": 5,
   "id": "845d053c",
   "metadata": {},
   "outputs": [
    {
     "data": {
      "text/plain": [
       "Moneda\n",
       "$      11158\n",
       "US$     7096\n",
       "Name: count, dtype: int64"
      ]
     },
     "execution_count": 5,
     "metadata": {},
     "output_type": "execute_result"
    }
   ],
   "source": [
    "df_raw[\"Moneda\"].value_counts()"
   ]
  },
  {
   "cell_type": "code",
   "execution_count": 6,
   "id": "7bf1a6d9",
   "metadata": {},
   "outputs": [
    {
     "data": {
      "text/plain": [
       "Marca\n",
       "Ford              2161\n",
       "Jeep              2050\n",
       "Volkswagen        2037\n",
       "Chevrolet         1750\n",
       "Renault           1491\n",
       "Toyota            1260\n",
       "Peugeot           1250\n",
       "Nissan            1059\n",
       "Citroën            721\n",
       "BMW                672\n",
       "Honda              597\n",
       "Hyundai            568\n",
       "Audi               529\n",
       "Fiat               366\n",
       "Chery              344\n",
       "Kia                290\n",
       "Mercedes-Benz      282\n",
       "Dodge              185\n",
       "BAIC               165\n",
       "Suzuki              76\n",
       "Porsche             67\n",
       "Land Rover          65\n",
       "Mitsubishi          47\n",
       "Volvo               38\n",
       "SsangYong           30\n",
       "D.S.                27\n",
       "Alfa Romeo          25\n",
       "JAC                 19\n",
       "Jetour              14\n",
       "GWM                  9\n",
       "Haval                9\n",
       "Isuzu                8\n",
       "Lifan                7\n",
       "Lexus                7\n",
       "Subaru               5\n",
       "Daihatsu             4\n",
       "D·S                  4\n",
       "Mini                 3\n",
       "Hiunday              2\n",
       "KAIYI                2\n",
       "DS AUTOMOBILES       2\n",
       "Jaguar               2\n",
       "Range Rover          1\n",
       "Rrenault             1\n",
       "Jetur                1\n",
       "hiunday              1\n",
       "Vol                  1\n",
       "Name: count, dtype: int64"
      ]
     },
     "execution_count": 6,
     "metadata": {},
     "output_type": "execute_result"
    }
   ],
   "source": [
    "df_raw[\"Marca\"].value_counts()"
   ]
  },
  {
   "cell_type": "code",
   "execution_count": 7,
   "id": "b5792b29",
   "metadata": {},
   "outputs": [
    {
     "data": {
      "text/plain": [
       "Transmisión\n",
       "Automática               12281\n",
       "Manual                    5834\n",
       "Automática secuencial      123\n",
       "Semiautomática               1\n",
       "Name: count, dtype: int64"
      ]
     },
     "execution_count": 7,
     "metadata": {},
     "output_type": "execute_result"
    }
   ],
   "source": [
    "df_raw[\"Transmisión\"].value_counts()"
   ]
  },
  {
   "cell_type": "code",
   "execution_count": 8,
   "id": "8e40c09d",
   "metadata": {},
   "outputs": [
    {
     "data": {
      "text/plain": [
       "Tipo de vendedor\n",
       "concesionaria    8509\n",
       "particular       5676\n",
       "tienda           4069\n",
       "Name: count, dtype: int64"
      ]
     },
     "execution_count": 8,
     "metadata": {},
     "output_type": "execute_result"
    }
   ],
   "source": [
    "df_raw[\"Tipo de vendedor\"].value_counts()"
   ]
  },
  {
   "cell_type": "code",
   "execution_count": 9,
   "id": "1529e36d",
   "metadata": {},
   "outputs": [
    {
     "data": {
      "text/plain": [
       "Tipo de carrocería\n",
       "SUV    18254\n",
       "Name: count, dtype: int64"
      ]
     },
     "execution_count": 9,
     "metadata": {},
     "output_type": "execute_result"
    }
   ],
   "source": [
    "df_raw[\"Tipo de carrocería\"].value_counts()"
   ]
  },
  {
   "cell_type": "code",
   "execution_count": 10,
   "id": "f178d7a8",
   "metadata": {},
   "outputs": [
    {
     "data": {
      "text/plain": [
       "Tipo de combustible\n",
       "Nafta            16067\n",
       "Diésel            1328\n",
       "Nafta/GNC          451\n",
       "Híbrido/Nafta      269\n",
       "Híbrido            105\n",
       "GNC                 12\n",
       "Eléctrico           12\n",
       "Mild Hybrid         10\n",
       "Name: count, dtype: int64"
      ]
     },
     "execution_count": 10,
     "metadata": {},
     "output_type": "execute_result"
    }
   ],
   "source": [
    "df_raw[\"Tipo de combustible\"].value_counts()"
   ]
  },
  {
   "cell_type": "code",
   "execution_count": null,
   "id": "d14ddda5",
   "metadata": {},
   "outputs": [],
   "source": [
    "from src.data_cleaner import DataProcessor"
   ]
  },
  {
   "cell_type": "code",
   "execution_count": 12,
   "id": "5309e54b",
   "metadata": {},
   "outputs": [],
   "source": [
    "dp = DataProcessor(df_raw)\n",
    "df = pd.DataFrame(dp.preprocess())\n",
    "\n",
    "df.to_csv(\"dataset/processed/pf_suvs_i302_1s2025_new.csv\", index=False)\n"
   ]
  },
  {
   "cell_type": "code",
   "execution_count": 13,
   "id": "34499284",
   "metadata": {},
   "outputs": [
    {
     "name": "stdout",
     "output_type": "stream",
     "text": [
      "<class 'pandas.core.frame.DataFrame'>\n",
      "RangeIndex: 17781 entries, 0 to 17780\n",
      "Data columns (total 12 columns):\n",
      " #   Column               Non-Null Count  Dtype  \n",
      "---  ------               --------------  -----  \n",
      " 0   Marca                17781 non-null  object \n",
      " 1   Modelo               17781 non-null  object \n",
      " 2   Puertas              17781 non-null  float64\n",
      " 3   Kilómetros           17781 non-null  float64\n",
      " 4   Precio_usd           17781 non-null  float64\n",
      " 5   Antigüedad           17781 non-null  float64\n",
      " 6   Cilindrada           17781 non-null  float64\n",
      " 7   Transmisión_Manual   17781 non-null  int64  \n",
      " 8   vendedor_particular  17781 non-null  int64  \n",
      " 9   combustible_Diésel   17781 non-null  bool   \n",
      " 10  combustible_Nafta    17781 non-null  bool   \n",
      " 11  combustible_Otros    17781 non-null  bool   \n",
      "dtypes: bool(3), float64(5), int64(2), object(2)\n",
      "memory usage: 1.3+ MB\n",
      "None\n",
      "\n",
      "--- Resumen Estadístico ---\n",
      "            Puertas    Kilómetros     Precio_usd     Antigüedad    Cilindrada  \\\n",
      "count  17781.000000  1.778100e+04   17781.000000   17781.000000  17781.000000   \n",
      "mean      18.522243  7.518157e+05   27390.631641     -18.399753      1.817519   \n",
      "std      903.547364  1.064227e+06   19624.074249    3259.772123      0.625942   \n",
      "min        2.000000  0.000000e+00     100.399912 -434669.000000      1.000000   \n",
      "25%        5.000000  0.000000e+00   16021.716754       1.000000      1.500000   \n",
      "50%        5.000000  6.800000e+05   23454.769418       6.000000      1.600000   \n",
      "75%        5.000000  1.160000e+06   32229.216374       9.000000      2.000000   \n",
      "max    60252.000000  9.999999e+07  610000.000000      39.000000      6.400000   \n",
      "\n",
      "       Transmisión_Manual  vendedor_particular  \n",
      "count        17781.000000         17781.000000  \n",
      "mean             0.320792             0.317755  \n",
      "std              0.466794             0.465617  \n",
      "min              0.000000             0.000000  \n",
      "25%              0.000000             0.000000  \n",
      "50%              0.000000             0.000000  \n",
      "75%              1.000000             1.000000  \n",
      "max              1.000000             1.000000  \n",
      "\n",
      "--- Valores Faltantes ---\n",
      "Marca                  0\n",
      "Modelo                 0\n",
      "Puertas                0\n",
      "Kilómetros             0\n",
      "Precio_usd             0\n",
      "Antigüedad             0\n",
      "Cilindrada             0\n",
      "Transmisión_Manual     0\n",
      "vendedor_particular    0\n",
      "combustible_Diésel     0\n",
      "combustible_Nafta      0\n",
      "combustible_Otros      0\n",
      "dtype: int64\n",
      "\n",
      "--- Distribución de la Variable Objetivo ---\n",
      "Precio_usd\n",
      "15186.541350    0.007255\n",
      "17717.631575    0.007086\n",
      "15608.389720    0.006805\n",
      "25310.902249    0.006299\n",
      "16873.934833    0.006186\n",
      "                  ...   \n",
      "20417.545517    0.000056\n",
      "9591.718273     0.000056\n",
      "15598.265359    0.000056\n",
      "24391.272801    0.000056\n",
      "26956.110895    0.000056\n",
      "Name: proportion, Length: 2815, dtype: float64\n"
     ]
    }
   ],
   "source": [
    "exploratory_analysis(df,target_col=\"Precio_usd\")"
   ]
  },
  {
   "cell_type": "code",
   "execution_count": 14,
   "id": "a57ce02b",
   "metadata": {},
   "outputs": [
    {
     "data": {
      "text/plain": [
       "Marca\n",
       "Ford             2100\n",
       "Jeep             2013\n",
       "Volkswagen       1987\n",
       "Chevrolet        1705\n",
       "Renault          1443\n",
       "Toyota           1226\n",
       "Peugeot          1220\n",
       "Nissan           1012\n",
       "Citroën           705\n",
       "BMW               640\n",
       "Honda             592\n",
       "Hyundai           555\n",
       "Audi              526\n",
       "Fiat              361\n",
       "Chery             339\n",
       "Kia               287\n",
       "Mercedes-Benz     281\n",
       "Dodge             185\n",
       "BAIC              162\n",
       "Suzuki             74\n",
       "Porsche            64\n",
       "Land Rover         60\n",
       "Mitsubishi         46\n",
       "Volvo              32\n",
       "SsangYong          30\n",
       "Alfa Romeo         24\n",
       "D.S.               20\n",
       "JAC                19\n",
       "Jetour             14\n",
       "GWM                 9\n",
       "Isuzu               8\n",
       "Lifan               7\n",
       "Lexus               7\n",
       "Haval               5\n",
       "Subaru              5\n",
       "D·S                 4\n",
       "Daihatsu            4\n",
       "Hiunday             2\n",
       "KAIYI               2\n",
       "Jaguar              2\n",
       "Rrenault            1\n",
       "Jetur               1\n",
       "hiunday             1\n",
       "Vol                 1\n",
       "Name: count, dtype: int64"
      ]
     },
     "execution_count": 14,
     "metadata": {},
     "output_type": "execute_result"
    }
   ],
   "source": [
    "df[\"Marca\"].value_counts()"
   ]
  },
  {
   "cell_type": "code",
   "execution_count": 15,
   "id": "e3f62a1f",
   "metadata": {},
   "outputs": [
    {
     "data": {
      "image/png": "[encoded data removed]",
      "text/plain": [
       "<Figure size 1200x1000 with 2 Axes>"
      ]
     },
     "metadata": {},
     "output_type": "display_data"
    }
   ],
   "source": [
    "import seaborn as sns\n",
    "import matplotlib.pyplot as plt\n",
    "\n",
    "# Selecciona solo columnas numéricas reales\n",
    "num_cols = df.select_dtypes(include=[\"float64\", \"int64\", \"bool\"])\n",
    "\n",
    "# Matriz de correlación\n",
    "corr = num_cols.corr()\n",
    "\n",
    "# Heatmap\n",
    "plt.figure(figsize=(12, 10))\n",
    "sns.heatmap(corr, annot=True, fmt=\".2f\", cmap=\"coolwarm\", square=True)\n",
    "plt.title(\"Matriz de correlación\")\n",
    "plt.tight_layout()\n",
    "plt.show()\n",
    "\n"
   ]
  },
  {
   "cell_type": "code",
   "execution_count": 16,
   "id": "7244426a",
   "metadata": {},
   "outputs": [],
   "source": [
    "# Distintos datasets\n",
    "\n",
    "df = df.drop(columns=[\"Marca\",\"Modelo\"])\n",
    "\n"
   ]
  },
  {
   "cell_type": "code",
   "execution_count": 20,
   "id": "47ad4984",
   "metadata": {},
   "outputs": [
    {
     "name": "stdout",
     "output_type": "stream",
     "text": [
      "<class 'pandas.core.frame.DataFrame'>\n",
      "RangeIndex: 17781 entries, 0 to 17780\n",
      "Data columns (total 10 columns):\n",
      " #   Column               Non-Null Count  Dtype  \n",
      "---  ------               --------------  -----  \n",
      " 0   Puertas              17781 non-null  float64\n",
      " 1   Kilómetros           17781 non-null  float64\n",
      " 2   Precio_usd           17781 non-null  float64\n",
      " 3   Antigüedad           17781 non-null  float64\n",
      " 4   Cilindrada           17781 non-null  float64\n",
      " 5   Transmisión_Manual   17781 non-null  int64  \n",
      " 6   vendedor_particular  17781 non-null  int64  \n",
      " 7   combustible_Diésel   17781 non-null  bool   \n",
      " 8   combustible_Nafta    17781 non-null  bool   \n",
      " 9   combustible_Otros    17781 non-null  bool   \n",
      "dtypes: bool(3), float64(5), int64(2)\n",
      "memory usage: 1.0 MB\n",
      "None\n",
      "\n",
      "--- Resumen Estadístico ---\n",
      "            Puertas    Kilómetros     Precio_usd     Antigüedad    Cilindrada  \\\n",
      "count  17781.000000  1.778100e+04   17781.000000   17781.000000  17781.000000   \n",
      "mean      18.522243  7.518157e+05   27390.631641     -18.399753      1.817519   \n",
      "std      903.547364  1.064227e+06   19624.074249    3259.772123      0.625942   \n",
      "min        2.000000  0.000000e+00     100.399912 -434669.000000      1.000000   \n",
      "25%        5.000000  0.000000e+00   16021.716754       1.000000      1.500000   \n",
      "50%        5.000000  6.800000e+05   23454.769418       6.000000      1.600000   \n",
      "75%        5.000000  1.160000e+06   32229.216374       9.000000      2.000000   \n",
      "max    60252.000000  9.999999e+07  610000.000000      39.000000      6.400000   \n",
      "\n",
      "       Transmisión_Manual  vendedor_particular  \n",
      "count        17781.000000         17781.000000  \n",
      "mean             0.320792             0.317755  \n",
      "std              0.466794             0.465617  \n",
      "min              0.000000             0.000000  \n",
      "25%              0.000000             0.000000  \n",
      "50%              0.000000             0.000000  \n",
      "75%              1.000000             1.000000  \n",
      "max              1.000000             1.000000  \n",
      "\n",
      "--- Valores Faltantes ---\n",
      "Puertas                0\n",
      "Kilómetros             0\n",
      "Precio_usd             0\n",
      "Antigüedad             0\n",
      "Cilindrada             0\n",
      "Transmisión_Manual     0\n",
      "vendedor_particular    0\n",
      "combustible_Diésel     0\n",
      "combustible_Nafta      0\n",
      "combustible_Otros      0\n",
      "dtype: int64\n",
      "\n",
      "--- Distribución de la Variable Objetivo ---\n",
      "Precio_usd\n",
      "15186.541350    0.007255\n",
      "17717.631575    0.007086\n",
      "15608.389720    0.006805\n",
      "25310.902249    0.006299\n",
      "16873.934833    0.006186\n",
      "                  ...   \n",
      "20417.545517    0.000056\n",
      "9591.718273     0.000056\n",
      "15598.265359    0.000056\n",
      "24391.272801    0.000056\n",
      "26956.110895    0.000056\n",
      "Name: proportion, Length: 2815, dtype: float64\n"
     ]
    }
   ],
   "source": [
    "exploratory_analysis(df, target_col=\"Precio_usd\")"
   ]
  },
  {
   "cell_type": "code",
   "execution_count": 23,
   "id": "8b8e2591",
   "metadata": {},
   "outputs": [],
   "source": [
    "\n",
    "\n",
    "\n",
    "df_train = df.sample(frac=0.8, random_state=42)\n",
    "y = df[\"Precio_usd\"].values\n",
    "X = df.drop(columns=[\"Precio_usd\"]).values\n",
    "df_val = df.drop(df_train.index)\n",
    "y_val = df_val[\"Precio_usd\"].values\n",
    "X_val = df_val.drop(columns=[\"Precio_usd\"]).values\n",
    "\n",
    "dp_train = DataProcessor(df_train)\n",
    "X = dp_train.normalize(X)\n",
    "X_val = dp_train.normalize_new_data(X_val)\n"
   ]
  },
  {
   "cell_type": "code",
   "execution_count": 18,
   "id": "30f5c81e",
   "metadata": {},
   "outputs": [
    {
     "name": "stdout",
     "output_type": "stream",
     "text": [
      "(17781, 9) (17781,)\n",
      "(3556, 9) (3556,)\n"
     ]
    }
   ],
   "source": [
    "print(X.shape, y.shape)\n",
    "print(X_val.shape, y_val.shape)"
   ]
  },
  {
   "cell_type": "code",
   "execution_count": null,
   "id": "69581f14",
   "metadata": {},
   "outputs": [],
   "source": [
    "from models.linear_regression import LinearReg"
   ]
  },
  {
   "cell_type": "code",
   "execution_count": 24,
   "id": "9f90a3af",
   "metadata": {},
   "outputs": [
    {
     "ename": "UFuncTypeError",
     "evalue": "Cannot cast ufunc 'subtract' output from dtype('O') to dtype('float64') with casting rule 'same_kind'",
     "output_type": "error",
     "traceback": [
      "\u001b[0;31m---------------------------------------------------------------------------\u001b[0m",
      "\u001b[0;31mUFuncTypeError\u001b[0m                            Traceback (most recent call last)",
      "Cell \u001b[0;32mIn[24], line 2\u001b[0m\n\u001b[1;32m      1\u001b[0m model \u001b[38;5;241m=\u001b[39m LinearReg(X, y,\u001b[38;5;241m0\u001b[39m, \u001b[38;5;241m0.001\u001b[39m)\n\u001b[0;32m----> 2\u001b[0m \u001b[43mmodel\u001b[49m\u001b[38;5;241;43m.\u001b[39;49m\u001b[43mtrain_gd\u001b[49m\u001b[43m(\u001b[49m\u001b[38;5;241;43m0.01\u001b[39;49m\u001b[43m,\u001b[49m\u001b[43m \u001b[49m\u001b[38;5;241;43m1000\u001b[39;49m\u001b[43m,\u001b[49m\u001b[43m \u001b[49m\u001b[38;5;124;43m\"\u001b[39;49m\u001b[38;5;124;43ml2\u001b[39;49m\u001b[38;5;124;43m\"\u001b[39;49m\u001b[43m)\u001b[49m\n\u001b[1;32m      3\u001b[0m y_pred \u001b[38;5;241m=\u001b[39m model\u001b[38;5;241m.\u001b[39mpredict(X_val)\n\u001b[1;32m      4\u001b[0m rmse \u001b[38;5;241m=\u001b[39m model\u001b[38;5;241m.\u001b[39mrmse(y_val, y_pred)\n",
      "File \u001b[0;32m~/Documents/UDESA/3 año/1 semestre/aprendizaje/Proyecto Final/models/linear_regression.py:37\u001b[0m, in \u001b[0;36mLinearReg.train_gd\u001b[0;34m(self, lr, epochs, reg)\u001b[0m\n\u001b[1;32m     35\u001b[0m \u001b[38;5;28;01mdef\u001b[39;00m\u001b[38;5;250m \u001b[39m\u001b[38;5;21mtrain_gd\u001b[39m(\u001b[38;5;28mself\u001b[39m, lr, epochs, reg\u001b[38;5;241m=\u001b[39m\u001b[38;5;241m0\u001b[39m):\n\u001b[1;32m     36\u001b[0m     \u001b[38;5;28;01mfor\u001b[39;00m _ \u001b[38;5;129;01min\u001b[39;00m \u001b[38;5;28mrange\u001b[39m(epochs):\n\u001b[0;32m---> 37\u001b[0m         \u001b[38;5;28;43mself\u001b[39;49m\u001b[38;5;241;43m.\u001b[39;49m\u001b[43mgd\u001b[49m\u001b[43m(\u001b[49m\u001b[43mlr\u001b[49m\u001b[43m,\u001b[49m\u001b[43m \u001b[49m\u001b[43mreg\u001b[49m\u001b[43m)\u001b[49m\n",
      "File \u001b[0;32m~/Documents/UDESA/3 año/1 semestre/aprendizaje/Proyecto Final/models/linear_regression.py:33\u001b[0m, in \u001b[0;36mLinearReg.gd\u001b[0;34m(self, lr, reg)\u001b[0m\n\u001b[1;32m     30\u001b[0m \u001b[38;5;28;01melse\u001b[39;00m:\n\u001b[1;32m     31\u001b[0m     reg_term \u001b[38;5;241m=\u001b[39m np\u001b[38;5;241m.\u001b[39mzeros_like(\u001b[38;5;28mself\u001b[39m\u001b[38;5;241m.\u001b[39mW)\n\u001b[0;32m---> 33\u001b[0m \u001b[38;5;28mself\u001b[39m\u001b[38;5;241m.\u001b[39mW \u001b[38;5;241m-\u001b[39m\u001b[38;5;241m=\u001b[39m lr \u001b[38;5;241m*\u001b[39m (gradient \u001b[38;5;241m+\u001b[39m reg_term)\n",
      "\u001b[0;31mUFuncTypeError\u001b[0m: Cannot cast ufunc 'subtract' output from dtype('O') to dtype('float64') with casting rule 'same_kind'"
     ]
    }
   ],
   "source": [
    "model = LinearReg(X, y,0, 0.001)\n",
    "model.train_gd(0.01, 1000, \"l2\")\n",
    "y_pred = model.predict(X_val)\n",
    "rmse = model.rmse(y_val, y_pred)\n",
    "print(f\"RMSE: {rmse:.2f}\")\n"
   ]
  },
  {
   "cell_type": "code",
   "execution_count": null,
   "id": "a2689dac",
   "metadata": {},
   "outputs": [
    {
     "ename": "UFuncTypeError",
     "evalue": "Cannot cast ufunc 'inv' input from dtype('O') to dtype('float64') with casting rule 'same_kind'",
     "output_type": "error",
     "traceback": [
      "\u001b[0;31m---------------------------------------------------------------------------\u001b[0m",
      "\u001b[0;31mUFuncTypeError\u001b[0m                            Traceback (most recent call last)",
      "Cell \u001b[0;32mIn[41], line 1\u001b[0m\n\u001b[0;32m----> 1\u001b[0m \u001b[43mmodel\u001b[49m\u001b[38;5;241;43m.\u001b[39;49m\u001b[43mtrain_pinv\u001b[49m\u001b[43m(\u001b[49m\u001b[38;5;124;43m\"\u001b[39;49m\u001b[38;5;124;43ml2\u001b[39;49m\u001b[38;5;124;43m\"\u001b[39;49m\u001b[43m)\u001b[49m\n\u001b[1;32m      2\u001b[0m y_pred_pinv \u001b[38;5;241m=\u001b[39m model\u001b[38;5;241m.\u001b[39mpredict(X_val)\n\u001b[1;32m      3\u001b[0m rmse_pinv \u001b[38;5;241m=\u001b[39m model\u001b[38;5;241m.\u001b[39mrmse(y_val, y_pred_pinv)\n",
      "File \u001b[0;32m~/Documents/UDESA/3 año/1 semestre/aprendizaje/Proyecto Final/models/linear_regression.py:16\u001b[0m, in \u001b[0;36mLinearReg.train_pinv\u001b[0;34m(self, reg)\u001b[0m\n\u001b[1;32m     14\u001b[0m     I \u001b[38;5;241m=\u001b[39m np\u001b[38;5;241m.\u001b[39meye(\u001b[38;5;28mself\u001b[39m\u001b[38;5;241m.\u001b[39mX\u001b[38;5;241m.\u001b[39mshape[\u001b[38;5;241m1\u001b[39m])\n\u001b[1;32m     15\u001b[0m     I[\u001b[38;5;241m0\u001b[39m, \u001b[38;5;241m0\u001b[39m] \u001b[38;5;241m=\u001b[39m \u001b[38;5;241m0\u001b[39m  \u001b[38;5;66;03m# No regularizar el término de bias\u001b[39;00m\n\u001b[0;32m---> 16\u001b[0m     \u001b[38;5;28mself\u001b[39m\u001b[38;5;241m.\u001b[39mW \u001b[38;5;241m=\u001b[39m \u001b[43mnp\u001b[49m\u001b[38;5;241;43m.\u001b[39;49m\u001b[43mlinalg\u001b[49m\u001b[38;5;241;43m.\u001b[39;49m\u001b[43minv\u001b[49m\u001b[43m(\u001b[49m\u001b[43mX\u001b[49m\u001b[38;5;241;43m.\u001b[39;49m\u001b[43mT\u001b[49m\u001b[43m \u001b[49m\u001b[38;5;241;43m@\u001b[39;49m\u001b[43m \u001b[49m\u001b[43mX\u001b[49m\u001b[43m \u001b[49m\u001b[38;5;241;43m+\u001b[39;49m\u001b[43m \u001b[49m\u001b[38;5;28;43mself\u001b[39;49m\u001b[38;5;241;43m.\u001b[39;49m\u001b[43ml2\u001b[49m\u001b[43m \u001b[49m\u001b[38;5;241;43m*\u001b[39;49m\u001b[43m \u001b[49m\u001b[43mI\u001b[49m\u001b[43m)\u001b[49m \u001b[38;5;241m@\u001b[39m X\u001b[38;5;241m.\u001b[39mT \u001b[38;5;241m@\u001b[39m \u001b[38;5;28mself\u001b[39m\u001b[38;5;241m.\u001b[39my\n\u001b[1;32m     17\u001b[0m \u001b[38;5;28;01melse\u001b[39;00m:\n\u001b[1;32m     18\u001b[0m     U, S, vt \u001b[38;5;241m=\u001b[39m np\u001b[38;5;241m.\u001b[39mlinalg\u001b[38;5;241m.\u001b[39msvd(\u001b[38;5;28mself\u001b[39m\u001b[38;5;241m.\u001b[39mX , full_matrices\u001b[38;5;241m=\u001b[39m\u001b[38;5;28;01mFalse\u001b[39;00m)\n",
      "File \u001b[0;32m~/Library/Python/3.9/lib/python/site-packages/numpy/linalg/_linalg.py:608\u001b[0m, in \u001b[0;36minv\u001b[0;34m(a)\u001b[0m\n\u001b[1;32m    605\u001b[0m signature \u001b[38;5;241m=\u001b[39m \u001b[38;5;124m'\u001b[39m\u001b[38;5;124mD->D\u001b[39m\u001b[38;5;124m'\u001b[39m \u001b[38;5;28;01mif\u001b[39;00m isComplexType(t) \u001b[38;5;28;01melse\u001b[39;00m \u001b[38;5;124m'\u001b[39m\u001b[38;5;124md->d\u001b[39m\u001b[38;5;124m'\u001b[39m\n\u001b[1;32m    606\u001b[0m \u001b[38;5;28;01mwith\u001b[39;00m errstate(call\u001b[38;5;241m=\u001b[39m_raise_linalgerror_singular, invalid\u001b[38;5;241m=\u001b[39m\u001b[38;5;124m'\u001b[39m\u001b[38;5;124mcall\u001b[39m\u001b[38;5;124m'\u001b[39m,\n\u001b[1;32m    607\u001b[0m               over\u001b[38;5;241m=\u001b[39m\u001b[38;5;124m'\u001b[39m\u001b[38;5;124mignore\u001b[39m\u001b[38;5;124m'\u001b[39m, divide\u001b[38;5;241m=\u001b[39m\u001b[38;5;124m'\u001b[39m\u001b[38;5;124mignore\u001b[39m\u001b[38;5;124m'\u001b[39m, under\u001b[38;5;241m=\u001b[39m\u001b[38;5;124m'\u001b[39m\u001b[38;5;124mignore\u001b[39m\u001b[38;5;124m'\u001b[39m):\n\u001b[0;32m--> 608\u001b[0m     ainv \u001b[38;5;241m=\u001b[39m \u001b[43m_umath_linalg\u001b[49m\u001b[38;5;241;43m.\u001b[39;49m\u001b[43minv\u001b[49m\u001b[43m(\u001b[49m\u001b[43ma\u001b[49m\u001b[43m,\u001b[49m\u001b[43m \u001b[49m\u001b[43msignature\u001b[49m\u001b[38;5;241;43m=\u001b[39;49m\u001b[43msignature\u001b[49m\u001b[43m)\u001b[49m\n\u001b[1;32m    609\u001b[0m \u001b[38;5;28;01mreturn\u001b[39;00m wrap(ainv\u001b[38;5;241m.\u001b[39mastype(result_t, copy\u001b[38;5;241m=\u001b[39m\u001b[38;5;28;01mFalse\u001b[39;00m))\n",
      "\u001b[0;31mUFuncTypeError\u001b[0m: Cannot cast ufunc 'inv' input from dtype('O') to dtype('float64') with casting rule 'same_kind'"
     ]
    }
   ],
   "source": [
    "model.train_pinv(\"l2\")\n",
    "y_pred_pinv = model.predict(X_val)\n",
    "rmse_pinv = model.rmse(y_val, y_pred_pinv)\n",
    "print(f\"RMSE con Pseudo-inversa: {rmse_pinv:.2f}\")\n"
   ]
  },
  {
   "cell_type": "code",
   "execution_count": null,
   "id": "698de722",
   "metadata": {},
   "outputs": [
    {
     "name": "stdout",
     "output_type": "stream",
     "text": [
      "RMSE con Pseudo-inversa: 9285.62\n"
     ]
    }
   ],
   "source": [
    "model.train_pinv()\n",
    "y_pred_pinv = model.predict(X_val)\n",
    "rmse_pinv = model.rmse(y_val, y_pred_pinv)\n",
    "print(f\"RMSE con Pseudo-inversa: {rmse_pinv:.2f}\")\n"
   ]
  }
 ],
 "metadata": {
  "kernelspec": {
   "display_name": "Python 3",
   "language": "python",
   "name": "python3"
  },
  "language_info": {
   "codemirror_mode": {
    "name": "ipython",
    "version": 3
   },
   "file_extension": ".py",
   "mimetype": "text/x-python",
   "name": "python",
   "nbconvert_exporter": "python",
   "pygments_lexer": "ipython3",
   "version": "3.9.6"
  }
 },
 "nbformat": 4,
 "nbformat_minor": 5
}
