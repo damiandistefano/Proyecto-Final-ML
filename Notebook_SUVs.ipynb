{
 "cells": [
  {
   "cell_type": "markdown",
   "id": "94ee05ab",
   "metadata": {},
   "source": [
    "# Proyecto Final - Precios de SUVs "
   ]
  },
  {
   "cell_type": "code",
   "execution_count": 8,
   "id": "a1334ab1",
   "metadata": {},
   "outputs": [],
   "source": [
    "%load_ext autoreload\n",
    "%autoreload 2"
   ]
  },
  {
   "cell_type": "code",
   "execution_count": 3,
   "id": "d14ddda5",
   "metadata": {},
   "outputs": [],
   "source": [
    "from src.data_cleaner import DataProcessor\n",
    "from models.linear_regression import LinearReg"
   ]
  },
  {
   "cell_type": "code",
   "execution_count": 9,
   "id": "8b8e2591",
   "metadata": {},
   "outputs": [
    {
     "ename": "NameError",
     "evalue": "name 'pd' is not defined",
     "output_type": "error",
     "traceback": [
      "\u001b[0;31m---------------------------------------------------------------------------\u001b[0m",
      "\u001b[0;31mNameError\u001b[0m                                 Traceback (most recent call last)",
      "Cell \u001b[0;32mIn[9], line 6\u001b[0m\n\u001b[1;32m      3\u001b[0m df \u001b[38;5;241m=\u001b[39m pd\u001b[38;5;241m.\u001b[39mread_csv(\u001b[38;5;124m\"\u001b[39m\u001b[38;5;124mdataset/pf_suvs_i302_1s2025.csv\u001b[39m\u001b[38;5;124m\"\u001b[39m)\n\u001b[1;32m      5\u001b[0m dp \u001b[38;5;241m=\u001b[39m DataProcessor(df)\n\u001b[0;32m----> 6\u001b[0m df \u001b[38;5;241m=\u001b[39m pd\u001b[38;5;241m.\u001b[39mDataFrame(\u001b[43mdp\u001b[49m\u001b[38;5;241;43m.\u001b[39;49m\u001b[43mpreprocess\u001b[49m\u001b[43m(\u001b[49m\u001b[43m)\u001b[49m)\n\u001b[1;32m     10\u001b[0m df_train \u001b[38;5;241m=\u001b[39m df\u001b[38;5;241m.\u001b[39msample(frac\u001b[38;5;241m=\u001b[39m\u001b[38;5;241m0.8\u001b[39m, random_state\u001b[38;5;241m=\u001b[39m\u001b[38;5;241m42\u001b[39m)\n\u001b[1;32m     11\u001b[0m y \u001b[38;5;241m=\u001b[39m df[\u001b[38;5;124m\"\u001b[39m\u001b[38;5;124mPrecio_usd\u001b[39m\u001b[38;5;124m\"\u001b[39m]\u001b[38;5;241m.\u001b[39mvalues\n",
      "File \u001b[0;32m~/Documents/UDESA/3 año/1 semestre/aprendizaje/Proyecto Final/src/data_cleaner.py:60\u001b[0m, in \u001b[0;36mDataProcessor.preprocess\u001b[0;34m(self)\u001b[0m\n\u001b[1;32m     58\u001b[0m \u001b[38;5;28;01mfor\u001b[39;00m col \u001b[38;5;129;01min\u001b[39;00m columns_to_encode:\n\u001b[1;32m     59\u001b[0m     \u001b[38;5;28;01mif\u001b[39;00m col \u001b[38;5;129;01min\u001b[39;00m df_clean\u001b[38;5;241m.\u001b[39mcolumns:\n\u001b[0;32m---> 60\u001b[0m         encoded_parts\u001b[38;5;241m.\u001b[39mappend(\u001b[43mone_hot_encode\u001b[49m\u001b[43m(\u001b[49m\u001b[43mdf_clean\u001b[49m\u001b[43m,\u001b[49m\u001b[43m \u001b[49m\u001b[43mcol\u001b[49m\u001b[43m)\u001b[49m)\n\u001b[1;32m     62\u001b[0m df_encoded \u001b[38;5;241m=\u001b[39m pd\u001b[38;5;241m.\u001b[39mconcat(encoded_parts, axis\u001b[38;5;241m=\u001b[39m\u001b[38;5;241m1\u001b[39m) \u001b[38;5;28;01mif\u001b[39;00m encoded_parts \u001b[38;5;28;01melse\u001b[39;00m pd\u001b[38;5;241m.\u001b[39mDataFrame(index\u001b[38;5;241m=\u001b[39mdf_clean\u001b[38;5;241m.\u001b[39mindex)\n\u001b[1;32m     64\u001b[0m \u001b[38;5;66;03m# 7. Eliminar columnas categóricas originales si existen\u001b[39;00m\n",
      "File \u001b[0;32m~/Documents/UDESA/3 año/1 semestre/aprendizaje/Proyecto Final/src/data_cleaner.py:48\u001b[0m, in \u001b[0;36mDataProcessor.preprocess.<locals>.one_hot_encode\u001b[0;34m(df, column)\u001b[0m\n\u001b[1;32m     46\u001b[0m     one_hot[i, value_to_index[val]] \u001b[38;5;241m=\u001b[39m \u001b[38;5;241m1\u001b[39m\n\u001b[1;32m     47\u001b[0m col_names \u001b[38;5;241m=\u001b[39m [\u001b[38;5;124mf\u001b[39m\u001b[38;5;124m\"\u001b[39m\u001b[38;5;132;01m{\u001b[39;00mcolumn\u001b[38;5;132;01m}\u001b[39;00m\u001b[38;5;124m_\u001b[39m\u001b[38;5;132;01m{\u001b[39;00mval\u001b[38;5;132;01m}\u001b[39;00m\u001b[38;5;124m\"\u001b[39m \u001b[38;5;28;01mfor\u001b[39;00m val \u001b[38;5;129;01min\u001b[39;00m unique_values]\n\u001b[0;32m---> 48\u001b[0m one_hot_df \u001b[38;5;241m=\u001b[39m \u001b[43mpd\u001b[49m\u001b[38;5;241m.\u001b[39mDataFrame(one_hot, columns\u001b[38;5;241m=\u001b[39mcol_names, index\u001b[38;5;241m=\u001b[39mdf\u001b[38;5;241m.\u001b[39mindex)\n\u001b[1;32m     49\u001b[0m \u001b[38;5;28;01mreturn\u001b[39;00m one_hot_df\n",
      "\u001b[0;31mNameError\u001b[0m: name 'pd' is not defined"
     ]
    }
   ],
   "source": [
    "import pandas as pd\n",
    "# Cargar el dataset\n",
    "df = pd.read_csv(\"dataset/pf_suvs_i302_1s2025.csv\")\n",
    "\n",
    "dp = DataProcessor(df)\n",
    "df = pd.DataFrame(dp.preprocess())\n",
    "\n",
    "\n",
    "\n",
    "df_train = df.sample(frac=0.8, random_state=42)\n",
    "y = df[\"Precio_usd\"].values\n",
    "X = df.drop(columns=[\"Precio_usd\"]).values\n",
    "df_val = df.drop(df_train.index)\n",
    "y_val = df_val[\"Precio_usd\"].values\n",
    "X_val = df_val.drop(columns=[\"Precio_usd\"]).values\n",
    "\n",
    "dp_train = DataProcessor(df_train)\n",
    "X = dp_train.normalize(X)\n",
    "X_val = dp_train.normalize_new_data(X_val)\n"
   ]
  },
  {
   "cell_type": "code",
   "execution_count": null,
   "id": "30f5c81e",
   "metadata": {},
   "outputs": [
    {
     "name": "stdout",
     "output_type": "stream",
     "text": [
      "(18254, 552) (18254,)\n",
      "(3651, 552) (3651,)\n"
     ]
    }
   ],
   "source": [
    "print(X.shape, y.shape)\n",
    "print(X_val.shape, y_val.shape)"
   ]
  },
  {
   "cell_type": "code",
   "execution_count": null,
   "id": "9f90a3af",
   "metadata": {},
   "outputs": [
    {
     "name": "stdout",
     "output_type": "stream",
     "text": [
      "RMSE: 8850.61\n"
     ]
    }
   ],
   "source": [
    "model = LinearReg(X, y,0, 0.001)\n",
    "model.train_gd(0.01, 1000, \"l2\")\n",
    "y_pred = model.predict(X_val)\n",
    "rmse = model.rmse(y_val, y_pred)\n",
    "print(f\"RMSE: {rmse:.2f}\")\n"
   ]
  },
  {
   "cell_type": "code",
   "execution_count": null,
   "id": "a2689dac",
   "metadata": {},
   "outputs": [
    {
     "name": "stdout",
     "output_type": "stream",
     "text": [
      "RMSE con Pseudo-inversa: 8825.13\n"
     ]
    }
   ],
   "source": [
    "model.train_pinv(\"l2\")\n",
    "y_pred_pinv = model.predict(X_val)\n",
    "rmse_pinv = model.rmse(y_val, y_pred_pinv)\n",
    "print(f\"RMSE con Pseudo-inversa: {rmse_pinv:.2f}\")\n"
   ]
  },
  {
   "cell_type": "code",
   "execution_count": null,
   "id": "698de722",
   "metadata": {},
   "outputs": [
    {
     "name": "stdout",
     "output_type": "stream",
     "text": [
      "RMSE con Pseudo-inversa: 12577.43\n"
     ]
    }
   ],
   "source": [
    "model.train_pinv()\n",
    "y_pred_pinv = model.predict(X_val)\n",
    "rmse_pinv = model.rmse(y_val, y_pred_pinv)\n",
    "print(f\"RMSE con Pseudo-inversa: {rmse_pinv:.2f}\")\n"
   ]
  }
 ],
 "metadata": {
  "kernelspec": {
   "display_name": "Python 3",
   "language": "python",
   "name": "python3"
  },
  "language_info": {
   "codemirror_mode": {
    "name": "ipython",
    "version": 3
   },
   "file_extension": ".py",
   "mimetype": "text/x-python",
   "name": "python",
   "nbconvert_exporter": "python",
   "pygments_lexer": "ipython3",
   "version": "3.9.6"
  }
 },
 "nbformat": 4,
 "nbformat_minor": 5
}
