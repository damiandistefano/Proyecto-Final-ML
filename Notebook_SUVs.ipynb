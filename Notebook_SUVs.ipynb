{
 "cells": [
  {
   "cell_type": "markdown",
   "id": "94ee05ab",
   "metadata": {},
   "source": [
    "# Proyecto Final - Precios de SUVs "
   ]
  },
  {
   "cell_type": "code",
   "execution_count": 1,
   "id": "a1334ab1",
   "metadata": {},
   "outputs": [],
   "source": [
    "%load_ext autoreload\n",
    "%autoreload 2"
   ]
  },
  {
   "cell_type": "markdown",
   "id": "56177449",
   "metadata": {},
   "source": [
    "### Analisis dataset crudo"
   ]
  },
  {
   "cell_type": "code",
   "execution_count": 2,
   "id": "077d20d0",
   "metadata": {},
   "outputs": [],
   "source": [
    "import pandas as pd\n",
    "# Cargar el dataset\n",
    "df_raw = pd.read_csv(\"dataset/raw/pf_suvs_i302_1s2025.csv\")\n",
    "df_raw = pd.DataFrame(df_raw)"
   ]
  },
  {
   "cell_type": "code",
   "execution_count": 3,
   "id": "f346dd0d",
   "metadata": {},
   "outputs": [],
   "source": [
    "from src.data_exploration import*"
   ]
  },
  {
   "cell_type": "code",
   "execution_count": 4,
   "id": "e2e17294",
   "metadata": {},
   "outputs": [
    {
     "name": "stdout",
     "output_type": "stream",
     "text": [
      "<class 'pandas.core.frame.DataFrame'>\n",
      "RangeIndex: 18254 entries, 0 to 18253\n",
      "Data columns (total 18 columns):\n",
      " #   Column                   Non-Null Count  Dtype  \n",
      "---  ------                   --------------  -----  \n",
      " 0   Unnamed: 0               18254 non-null  int64  \n",
      " 1   Marca                    18254 non-null  object \n",
      " 2   Modelo                   18254 non-null  object \n",
      " 3   Año                      18254 non-null  float64\n",
      " 4   Versión                  18254 non-null  object \n",
      " 5   Color                    17865 non-null  object \n",
      " 6   Tipo de combustible      18254 non-null  object \n",
      " 7   Puertas                  18254 non-null  float64\n",
      " 8   Transmisión              18239 non-null  object \n",
      " 9   Motor                    18216 non-null  object \n",
      " 10  Tipo de carrocería       18254 non-null  object \n",
      " 11  Con cámara de retroceso  4691 non-null   object \n",
      " 12  Kilómetros               18254 non-null  object \n",
      " 13  Título                   18254 non-null  object \n",
      " 14  Precio                   18254 non-null  float64\n",
      " 15  Moneda                   18254 non-null  object \n",
      " 16  Descripción              18254 non-null  object \n",
      " 17  Tipo de vendedor         18254 non-null  object \n",
      "dtypes: float64(3), int64(1), object(14)\n",
      "memory usage: 2.5+ MB\n",
      "None\n",
      "\n",
      "--- Resumen Estadístico ---\n",
      "         Unnamed: 0            Año       Puertas        Precio\n",
      "count  18254.000000   18254.000000  18254.000000  1.825400e+04\n",
      "mean    9126.500000    2042.796209     18.167306  1.760162e+07\n",
      "std     5269.620242    3217.260996    891.766121  1.720810e+07\n",
      "min        0.000000    1981.000000      2.000000  1.110000e+02\n",
      "25%     4563.250000    2016.000000      5.000000  3.190000e+04\n",
      "50%     9126.500000    2019.000000      5.000000  1.720000e+07\n",
      "75%    13689.750000    2024.000000      5.000000  2.995000e+07\n",
      "max    18253.000000  436694.000000  60252.000000  3.495000e+08\n",
      "\n",
      "--- Valores Faltantes ---\n",
      "Unnamed: 0                     0\n",
      "Marca                          0\n",
      "Modelo                         0\n",
      "Año                            0\n",
      "Versión                        0\n",
      "Color                        389\n",
      "Tipo de combustible            0\n",
      "Puertas                        0\n",
      "Transmisión                   15\n",
      "Motor                         38\n",
      "Tipo de carrocería             0\n",
      "Con cámara de retroceso    13563\n",
      "Kilómetros                     0\n",
      "Título                         0\n",
      "Precio                         0\n",
      "Moneda                         0\n",
      "Descripción                    0\n",
      "Tipo de vendedor               0\n",
      "dtype: int64\n",
      "\n",
      "--- Distribución de la Variable Objetivo ---\n",
      "Precio\n",
      "18000000.0    0.007231\n",
      "21000000.0    0.007012\n",
      "18500000.0    0.006738\n",
      "30000000.0    0.006300\n",
      "20000000.0    0.006081\n",
      "                ...   \n",
      "36515614.0    0.000055\n",
      "36499900.0    0.000055\n",
      "25499999.0    0.000055\n",
      "20662000.0    0.000055\n",
      "31950000.0    0.000055\n",
      "Name: proportion, Length: 2914, dtype: float64\n"
     ]
    }
   ],
   "source": [
    "exploratory_analysis(df_raw, target_col=\"Precio\")"
   ]
  },
  {
   "cell_type": "code",
   "execution_count": 5,
   "id": "845d053c",
   "metadata": {},
   "outputs": [
    {
     "data": {
      "text/plain": [
       "Moneda\n",
       "$      11158\n",
       "US$     7096\n",
       "Name: count, dtype: int64"
      ]
     },
     "execution_count": 5,
     "metadata": {},
     "output_type": "execute_result"
    }
   ],
   "source": [
    "df_raw[\"Moneda\"].value_counts()"
   ]
  },
  {
   "cell_type": "code",
   "execution_count": 6,
   "id": "7bf1a6d9",
   "metadata": {},
   "outputs": [
    {
     "data": {
      "text/plain": [
       "Marca\n",
       "Ford              2161\n",
       "Jeep              2050\n",
       "Volkswagen        2037\n",
       "Chevrolet         1750\n",
       "Renault           1491\n",
       "Toyota            1260\n",
       "Peugeot           1250\n",
       "Nissan            1059\n",
       "Citroën            721\n",
       "BMW                672\n",
       "Honda              597\n",
       "Hyundai            568\n",
       "Audi               529\n",
       "Fiat               366\n",
       "Chery              344\n",
       "Kia                290\n",
       "Mercedes-Benz      282\n",
       "Dodge              185\n",
       "BAIC               165\n",
       "Suzuki              76\n",
       "Porsche             67\n",
       "Land Rover          65\n",
       "Mitsubishi          47\n",
       "Volvo               38\n",
       "SsangYong           30\n",
       "D.S.                27\n",
       "Alfa Romeo          25\n",
       "JAC                 19\n",
       "Jetour              14\n",
       "GWM                  9\n",
       "Haval                9\n",
       "Isuzu                8\n",
       "Lifan                7\n",
       "Lexus                7\n",
       "Subaru               5\n",
       "Daihatsu             4\n",
       "D·S                  4\n",
       "Mini                 3\n",
       "Hiunday              2\n",
       "KAIYI                2\n",
       "DS AUTOMOBILES       2\n",
       "Jaguar               2\n",
       "Range Rover          1\n",
       "Rrenault             1\n",
       "Jetur                1\n",
       "hiunday              1\n",
       "Vol                  1\n",
       "Name: count, dtype: int64"
      ]
     },
     "execution_count": 6,
     "metadata": {},
     "output_type": "execute_result"
    }
   ],
   "source": [
    "df_raw[\"Marca\"].value_counts()"
   ]
  },
  {
   "cell_type": "code",
   "execution_count": 7,
   "id": "b5792b29",
   "metadata": {},
   "outputs": [
    {
     "data": {
      "text/plain": [
       "Transmisión\n",
       "Automática               12281\n",
       "Manual                    5834\n",
       "Automática secuencial      123\n",
       "Semiautomática               1\n",
       "Name: count, dtype: int64"
      ]
     },
     "execution_count": 7,
     "metadata": {},
     "output_type": "execute_result"
    }
   ],
   "source": [
    "df_raw[\"Transmisión\"].value_counts()"
   ]
  },
  {
   "cell_type": "code",
   "execution_count": 8,
   "id": "8e40c09d",
   "metadata": {},
   "outputs": [
    {
     "data": {
      "text/plain": [
       "Tipo de vendedor\n",
       "concesionaria    8509\n",
       "particular       5676\n",
       "tienda           4069\n",
       "Name: count, dtype: int64"
      ]
     },
     "execution_count": 8,
     "metadata": {},
     "output_type": "execute_result"
    }
   ],
   "source": [
    "df_raw[\"Tipo de vendedor\"].value_counts()"
   ]
  },
  {
   "cell_type": "code",
   "execution_count": 9,
   "id": "1529e36d",
   "metadata": {},
   "outputs": [
    {
     "data": {
      "text/plain": [
       "Tipo de carrocería\n",
       "SUV    18254\n",
       "Name: count, dtype: int64"
      ]
     },
     "execution_count": 9,
     "metadata": {},
     "output_type": "execute_result"
    }
   ],
   "source": [
    "df_raw[\"Tipo de carrocería\"].value_counts()"
   ]
  },
  {
   "cell_type": "code",
   "execution_count": 10,
   "id": "f178d7a8",
   "metadata": {},
   "outputs": [
    {
     "data": {
      "text/plain": [
       "Tipo de combustible\n",
       "Nafta            16067\n",
       "Diésel            1328\n",
       "Nafta/GNC          451\n",
       "Híbrido/Nafta      269\n",
       "Híbrido            105\n",
       "GNC                 12\n",
       "Eléctrico           12\n",
       "Mild Hybrid         10\n",
       "Name: count, dtype: int64"
      ]
     },
     "execution_count": 10,
     "metadata": {},
     "output_type": "execute_result"
    }
   ],
   "source": [
    "df_raw[\"Tipo de combustible\"].value_counts()"
   ]
  },
  {
   "cell_type": "code",
   "execution_count": 11,
   "id": "d14ddda5",
   "metadata": {},
   "outputs": [],
   "source": [
    "from src.data_cleaner import DataProcessor"
   ]
  },
  {
   "cell_type": "markdown",
   "id": "8afebc47",
   "metadata": {},
   "source": [
    "### Pre-procesamientos del dataset"
   ]
  },
  {
   "cell_type": "code",
   "execution_count": 12,
   "id": "5309e54b",
   "metadata": {},
   "outputs": [],
   "source": [
    "dp_OH = DataProcessor(df_raw)\n",
    "df_OH = pd.DataFrame(dp_OH.preprocess())\n",
    "\n",
    "df_OH.to_csv(\"dataset/processed/marcas_OH.csv\", index=False)\n"
   ]
  },
  {
   "cell_type": "code",
   "execution_count": 13,
   "id": "69581f14",
   "metadata": {},
   "outputs": [],
   "source": [
    "from models.linear_regression import LinearReg\n",
    "from src.train_val_models import*"
   ]
  },
  {
   "cell_type": "markdown",
   "id": "671ba9b7",
   "metadata": {},
   "source": [
    "### Comparar metricas de varios modelos"
   ]
  },
  {
   "cell_type": "code",
   "execution_count": 15,
   "id": "3d750de1",
   "metadata": {},
   "outputs": [
    {
     "name": "stdout",
     "output_type": "stream",
     "text": [
      "[One-hot completo] MSE: 310380772906414.56 | RMSE: 17617626.77 | MAE: 300221.94\n"
     ]
    }
   ],
   "source": [
    "datasets = {\n",
    "    \"One-hot completo\": (dp_OH, df_OH)\n",
    "}\n",
    "\n",
    "resultados = run_experiment(datasets)\n"
   ]
  }
 ],
 "metadata": {
  "kernelspec": {
   "display_name": "Python 3",
   "language": "python",
   "name": "python3"
  },
  "language_info": {
   "codemirror_mode": {
    "name": "ipython",
    "version": 3
   },
   "file_extension": ".py",
   "mimetype": "text/x-python",
   "name": "python",
   "nbconvert_exporter": "python",
   "pygments_lexer": "ipython3",
   "version": "3.9.6"
  }
 },
 "nbformat": 4,
 "nbformat_minor": 5
}
