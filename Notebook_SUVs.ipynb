{
 "cells": [
  {
   "cell_type": "markdown",
   "id": "94ee05ab",
   "metadata": {},
   "source": [
    "# Proyecto Final - Precios de SUVs "
   ]
  },
  {
   "cell_type": "code",
   "execution_count": 1,
   "id": "a1334ab1",
   "metadata": {},
   "outputs": [],
   "source": [
    "%load_ext autoreload\n",
    "%autoreload 2"
   ]
  },
  {
   "cell_type": "markdown",
   "id": "56177449",
   "metadata": {},
   "source": [
    "### Analisis dataset"
   ]
  },
  {
   "cell_type": "markdown",
   "id": "cab120ed",
   "metadata": {},
   "source": [
    "-hay dos columnas precio y moneda, paso a precio en dolares\n",
    "-sacar version\n",
    "-dejaste muchas features creo\n",
    "-en ves de one hotear marcas dividir en gama baja media y alta\n",
    "-borraria color, muchas distintas y capaz poca relevancia\n",
    "-eliminaria camara de retroceso 13000 nans\n"
   ]
  },
  {
   "cell_type": "code",
   "execution_count": 2,
   "id": "077d20d0",
   "metadata": {},
   "outputs": [],
   "source": [
    "import pandas as pd\n",
    "# Cargar el dataset\n",
    "df_raw = pd.read_csv(\"dataset/raw/pf_suvs_i302_1s2025.csv\")\n",
    "df_raw = pd.DataFrame(df_raw)"
   ]
  },
  {
   "cell_type": "code",
   "execution_count": 3,
   "id": "f346dd0d",
   "metadata": {},
   "outputs": [],
   "source": [
    "from src.data_exploration import*"
   ]
  },
  {
   "cell_type": "code",
   "execution_count": 4,
   "id": "e2e17294",
   "metadata": {},
   "outputs": [
    {
     "name": "stdout",
     "output_type": "stream",
     "text": [
      "<class 'pandas.core.frame.DataFrame'>\n",
      "RangeIndex: 18254 entries, 0 to 18253\n",
      "Data columns (total 18 columns):\n",
      " #   Column                   Non-Null Count  Dtype  \n",
      "---  ------                   --------------  -----  \n",
      " 0   Unnamed: 0               18254 non-null  int64  \n",
      " 1   Marca                    18254 non-null  object \n",
      " 2   Modelo                   18254 non-null  object \n",
      " 3   Año                      18254 non-null  float64\n",
      " 4   Versión                  18254 non-null  object \n",
      " 5   Color                    17865 non-null  object \n",
      " 6   Tipo de combustible      18254 non-null  object \n",
      " 7   Puertas                  18254 non-null  float64\n",
      " 8   Transmisión              18239 non-null  object \n",
      " 9   Motor                    18216 non-null  object \n",
      " 10  Tipo de carrocería       18254 non-null  object \n",
      " 11  Con cámara de retroceso  4691 non-null   object \n",
      " 12  Kilómetros               18254 non-null  object \n",
      " 13  Título                   18254 non-null  object \n",
      " 14  Precio                   18254 non-null  float64\n",
      " 15  Moneda                   18254 non-null  object \n",
      " 16  Descripción              18254 non-null  object \n",
      " 17  Tipo de vendedor         18254 non-null  object \n",
      "dtypes: float64(3), int64(1), object(14)\n",
      "memory usage: 2.5+ MB\n",
      "None\n",
      "\n",
      "--- Resumen Estadístico ---\n",
      "         Unnamed: 0            Año       Puertas        Precio\n",
      "count  18254.000000   18254.000000  18254.000000  1.825400e+04\n",
      "mean    9126.500000    2042.796209     18.167306  1.760162e+07\n",
      "std     5269.620242    3217.260996    891.766121  1.720810e+07\n",
      "min        0.000000    1981.000000      2.000000  1.110000e+02\n",
      "25%     4563.250000    2016.000000      5.000000  3.190000e+04\n",
      "50%     9126.500000    2019.000000      5.000000  1.720000e+07\n",
      "75%    13689.750000    2024.000000      5.000000  2.995000e+07\n",
      "max    18253.000000  436694.000000  60252.000000  3.495000e+08\n",
      "\n",
      "--- Valores Faltantes ---\n",
      "Unnamed: 0                     0\n",
      "Marca                          0\n",
      "Modelo                         0\n",
      "Año                            0\n",
      "Versión                        0\n",
      "Color                        389\n",
      "Tipo de combustible            0\n",
      "Puertas                        0\n",
      "Transmisión                   15\n",
      "Motor                         38\n",
      "Tipo de carrocería             0\n",
      "Con cámara de retroceso    13563\n",
      "Kilómetros                     0\n",
      "Título                         0\n",
      "Precio                         0\n",
      "Moneda                         0\n",
      "Descripción                    0\n",
      "Tipo de vendedor               0\n",
      "dtype: int64\n",
      "\n",
      "--- Distribución de la Variable Objetivo ---\n",
      "Precio\n",
      "18000000.0    0.007231\n",
      "21000000.0    0.007012\n",
      "18500000.0    0.006738\n",
      "30000000.0    0.006300\n",
      "20000000.0    0.006081\n",
      "                ...   \n",
      "36515614.0    0.000055\n",
      "36499900.0    0.000055\n",
      "25499999.0    0.000055\n",
      "20662000.0    0.000055\n",
      "31950000.0    0.000055\n",
      "Name: proportion, Length: 2914, dtype: float64\n"
     ]
    }
   ],
   "source": [
    "\n",
    "exploratory_analysis(df_raw, target_col=\"Precio\")"
   ]
  },
  {
   "cell_type": "code",
   "execution_count": 5,
   "id": "845d053c",
   "metadata": {},
   "outputs": [
    {
     "data": {
      "text/plain": [
       "Moneda\n",
       "$      11158\n",
       "US$     7096\n",
       "Name: count, dtype: int64"
      ]
     },
     "execution_count": 5,
     "metadata": {},
     "output_type": "execute_result"
    }
   ],
   "source": [
    "df_raw[\"Moneda\"].value_counts()"
   ]
  },
  {
   "cell_type": "code",
   "execution_count": 6,
   "id": "7bf1a6d9",
   "metadata": {},
   "outputs": [
    {
     "data": {
      "text/plain": [
       "Marca\n",
       "Ford              2161\n",
       "Jeep              2050\n",
       "Volkswagen        2037\n",
       "Chevrolet         1750\n",
       "Renault           1491\n",
       "Toyota            1260\n",
       "Peugeot           1250\n",
       "Nissan            1059\n",
       "Citroën            721\n",
       "BMW                672\n",
       "Honda              597\n",
       "Hyundai            568\n",
       "Audi               529\n",
       "Fiat               366\n",
       "Chery              344\n",
       "Kia                290\n",
       "Mercedes-Benz      282\n",
       "Dodge              185\n",
       "BAIC               165\n",
       "Suzuki              76\n",
       "Porsche             67\n",
       "Land Rover          65\n",
       "Mitsubishi          47\n",
       "Volvo               38\n",
       "SsangYong           30\n",
       "D.S.                27\n",
       "Alfa Romeo          25\n",
       "JAC                 19\n",
       "Jetour              14\n",
       "GWM                  9\n",
       "Haval                9\n",
       "Isuzu                8\n",
       "Lifan                7\n",
       "Lexus                7\n",
       "Subaru               5\n",
       "Daihatsu             4\n",
       "D·S                  4\n",
       "Mini                 3\n",
       "Hiunday              2\n",
       "KAIYI                2\n",
       "DS AUTOMOBILES       2\n",
       "Jaguar               2\n",
       "Range Rover          1\n",
       "Rrenault             1\n",
       "Jetur                1\n",
       "hiunday              1\n",
       "Vol                  1\n",
       "Name: count, dtype: int64"
      ]
     },
     "execution_count": 6,
     "metadata": {},
     "output_type": "execute_result"
    }
   ],
   "source": [
    "df_raw[\"Marca\"].value_counts()"
   ]
  },
  {
   "cell_type": "code",
   "execution_count": 7,
   "id": "b5792b29",
   "metadata": {},
   "outputs": [
    {
     "data": {
      "text/plain": [
       "Transmisión\n",
       "Automática               12281\n",
       "Manual                    5834\n",
       "Automática secuencial      123\n",
       "Semiautomática               1\n",
       "Name: count, dtype: int64"
      ]
     },
     "execution_count": 7,
     "metadata": {},
     "output_type": "execute_result"
    }
   ],
   "source": [
    "df_raw[\"Transmisión\"].value_counts()"
   ]
  },
  {
   "cell_type": "code",
   "execution_count": 8,
   "id": "8e40c09d",
   "metadata": {},
   "outputs": [
    {
     "data": {
      "text/plain": [
       "Tipo de vendedor\n",
       "concesionaria    8509\n",
       "particular       5676\n",
       "tienda           4069\n",
       "Name: count, dtype: int64"
      ]
     },
     "execution_count": 8,
     "metadata": {},
     "output_type": "execute_result"
    }
   ],
   "source": [
    "df_raw[\"Tipo de vendedor\"].value_counts()"
   ]
  },
  {
   "cell_type": "code",
   "execution_count": 9,
   "id": "1529e36d",
   "metadata": {},
   "outputs": [
    {
     "data": {
      "text/plain": [
       "Tipo de carrocería\n",
       "SUV    18254\n",
       "Name: count, dtype: int64"
      ]
     },
     "execution_count": 9,
     "metadata": {},
     "output_type": "execute_result"
    }
   ],
   "source": [
    "df_raw[\"Tipo de carrocería\"].value_counts()"
   ]
  },
  {
   "cell_type": "code",
   "execution_count": 10,
   "id": "f178d7a8",
   "metadata": {},
   "outputs": [
    {
     "data": {
      "text/plain": [
       "Tipo de combustible\n",
       "Nafta            16067\n",
       "Diésel            1328\n",
       "Nafta/GNC          451\n",
       "Híbrido/Nafta      269\n",
       "Híbrido            105\n",
       "GNC                 12\n",
       "Eléctrico           12\n",
       "Mild Hybrid         10\n",
       "Name: count, dtype: int64"
      ]
     },
     "execution_count": 10,
     "metadata": {},
     "output_type": "execute_result"
    }
   ],
   "source": [
    "df_raw[\"Tipo de combustible\"].value_counts()"
   ]
  },
  {
   "cell_type": "code",
   "execution_count": 11,
   "id": "d14ddda5",
   "metadata": {},
   "outputs": [],
   "source": [
    "from src.data_cleaner import DataProcessor"
   ]
  },
  {
   "cell_type": "code",
   "execution_count": 12,
   "id": "5309e54b",
   "metadata": {},
   "outputs": [
    {
     "name": "stdout",
     "output_type": "stream",
     "text": [
      "Marca: 47 categorías\n",
      "Modelo: 137 categorías\n"
     ]
    }
   ],
   "source": [
    "dp = DataProcessor(df_raw)\n",
    "df = pd.DataFrame(dp.preprocess())\n",
    "\n",
    "df.to_csv(\"dataset/processed/marcas_OH.csv\", index=False)\n"
   ]
  },
  {
   "cell_type": "code",
   "execution_count": 13,
   "id": "34499284",
   "metadata": {},
   "outputs": [
    {
     "name": "stdout",
     "output_type": "stream",
     "text": [
      "<class 'pandas.core.frame.DataFrame'>\n",
      "RangeIndex: 17781 entries, 0 to 17780\n",
      "Columns: 194 entries, Puertas to combustible_Otros\n",
      "dtypes: bool(3), float64(189), int64(2)\n",
      "memory usage: 26.0 MB\n",
      "None\n",
      "\n",
      "--- Resumen Estadístico ---\n",
      "            Puertas    Kilómetros     Precio_usd     Antigüedad    Marca_Ford  \\\n",
      "count  17781.000000  1.778100e+04   17781.000000   17781.000000  17781.000000   \n",
      "mean      18.522243  7.518157e+05   27390.631641     -18.399753      0.118104   \n",
      "std      903.547364  1.064227e+06   19624.074249    3259.772123      0.322740   \n",
      "min        2.000000  0.000000e+00     100.399912 -434669.000000      0.000000   \n",
      "25%        5.000000  0.000000e+00   16021.716754       1.000000      0.000000   \n",
      "50%        5.000000  6.800000e+05   23454.769418       6.000000      0.000000   \n",
      "75%        5.000000  1.160000e+06   32229.216374       9.000000      0.000000   \n",
      "max    60252.000000  9.999999e+07  610000.000000      39.000000      1.000000   \n",
      "\n",
      "       Marca_Volkswagen    Marca_Jeep    Marca_BAIC     Marca_Kia  \\\n",
      "count      17781.000000  17781.000000  17781.000000  17781.000000   \n",
      "mean           0.111748      0.113211      0.009111      0.016141   \n",
      "std            0.315066      0.316859      0.095018      0.126021   \n",
      "min            0.000000      0.000000      0.000000      0.000000   \n",
      "25%            0.000000      0.000000      0.000000      0.000000   \n",
      "50%            0.000000      0.000000      0.000000      0.000000   \n",
      "75%            0.000000      0.000000      0.000000      0.000000   \n",
      "max            1.000000      1.000000      1.000000      1.000000   \n",
      "\n",
      "       Marca_Hyundai  ...   Modelo_Kona  Modelo_Actyon  Modelo_Clase GL  \\\n",
      "count   17781.000000  ...  17781.000000   17781.000000     17781.000000   \n",
      "mean        0.031213  ...      0.000225       0.000394         0.000112   \n",
      "std         0.173898  ...      0.014997       0.019838         0.010605   \n",
      "min         0.000000  ...      0.000000       0.000000         0.000000   \n",
      "25%         0.000000  ...      0.000000       0.000000         0.000000   \n",
      "50%         0.000000  ...      0.000000       0.000000         0.000000   \n",
      "75%         0.000000  ...      0.000000       0.000000         0.000000   \n",
      "max         1.000000  ...      1.000000       1.000000         1.000000   \n",
      "\n",
      "       Modelo_Grand Santa Fé    Modelo_DS3  Modelo_Mohave  Modelo_F-PACE  \\\n",
      "count           17781.000000  17781.000000   17781.000000   17781.000000   \n",
      "mean                0.000169      0.000112       0.000112       0.000112   \n",
      "std                 0.012988      0.010605       0.010605       0.010605   \n",
      "min                 0.000000      0.000000       0.000000       0.000000   \n",
      "25%                 0.000000      0.000000       0.000000       0.000000   \n",
      "50%                 0.000000      0.000000       0.000000       0.000000   \n",
      "75%                 0.000000      0.000000       0.000000       0.000000   \n",
      "max                 1.000000      1.000000       1.000000       1.000000   \n",
      "\n",
      "         Cilindrada  Transmisión_Manual  vendedor_particular  \n",
      "count  17781.000000        17781.000000         17781.000000  \n",
      "mean       1.817519            0.320792             0.317755  \n",
      "std        0.625942            0.466794             0.465617  \n",
      "min        1.000000            0.000000             0.000000  \n",
      "25%        1.500000            0.000000             0.000000  \n",
      "50%        1.600000            0.000000             0.000000  \n",
      "75%        2.000000            1.000000             1.000000  \n",
      "max        6.400000            1.000000             1.000000  \n",
      "\n",
      "[8 rows x 191 columns]\n",
      "\n",
      "--- Valores Faltantes ---\n",
      "Puertas                0\n",
      "Kilómetros             0\n",
      "Precio_usd             0\n",
      "Antigüedad             0\n",
      "Marca_Ford             0\n",
      "                      ..\n",
      "Transmisión_Manual     0\n",
      "vendedor_particular    0\n",
      "combustible_Diésel     0\n",
      "combustible_Nafta      0\n",
      "combustible_Otros      0\n",
      "Length: 194, dtype: int64\n",
      "\n",
      "--- Distribución de la Variable Objetivo ---\n",
      "Precio_usd\n",
      "15186.541350    0.007255\n",
      "17717.631575    0.007086\n",
      "15608.389720    0.006805\n",
      "25310.902249    0.006299\n",
      "16873.934833    0.006186\n",
      "                  ...   \n",
      "20417.545517    0.000056\n",
      "9591.718273     0.000056\n",
      "15598.265359    0.000056\n",
      "24391.272801    0.000056\n",
      "26956.110895    0.000056\n",
      "Name: proportion, Length: 2815, dtype: float64\n"
     ]
    }
   ],
   "source": [
    "exploratory_analysis(df,target_col=\"Precio_usd\")"
   ]
  },
  {
   "cell_type": "code",
   "execution_count": 17,
   "id": "7244426a",
   "metadata": {},
   "outputs": [],
   "source": [
    "# Distintos datasets\n",
    "from sklearn.model_selection import train_test_split\n",
    "x_train, x_test, y_val, y_val = train_test_split(df.drop(columns=[\"Precio_usd\"]), df[\"Precio_usd\"], test_size=0.2, random_state=42)\n"
   ]
  },
  {
   "cell_type": "code",
   "execution_count": 18,
   "id": "47ad4984",
   "metadata": {},
   "outputs": [
    {
     "name": "stdout",
     "output_type": "stream",
     "text": [
      "<class 'pandas.core.frame.DataFrame'>\n",
      "RangeIndex: 17781 entries, 0 to 17780\n",
      "Columns: 194 entries, Puertas to combustible_Otros\n",
      "dtypes: bool(3), float64(189), int64(2)\n",
      "memory usage: 26.0 MB\n",
      "None\n",
      "\n",
      "--- Resumen Estadístico ---\n",
      "            Puertas    Kilómetros     Precio_usd     Antigüedad    Marca_Ford  \\\n",
      "count  17781.000000  1.778100e+04   17781.000000   17781.000000  17781.000000   \n",
      "mean      18.522243  7.518157e+05   27390.631641     -18.399753      0.118104   \n",
      "std      903.547364  1.064227e+06   19624.074249    3259.772123      0.322740   \n",
      "min        2.000000  0.000000e+00     100.399912 -434669.000000      0.000000   \n",
      "25%        5.000000  0.000000e+00   16021.716754       1.000000      0.000000   \n",
      "50%        5.000000  6.800000e+05   23454.769418       6.000000      0.000000   \n",
      "75%        5.000000  1.160000e+06   32229.216374       9.000000      0.000000   \n",
      "max    60252.000000  9.999999e+07  610000.000000      39.000000      1.000000   \n",
      "\n",
      "       Marca_Volkswagen    Marca_Jeep    Marca_BAIC     Marca_Kia  \\\n",
      "count      17781.000000  17781.000000  17781.000000  17781.000000   \n",
      "mean           0.111748      0.113211      0.009111      0.016141   \n",
      "std            0.315066      0.316859      0.095018      0.126021   \n",
      "min            0.000000      0.000000      0.000000      0.000000   \n",
      "25%            0.000000      0.000000      0.000000      0.000000   \n",
      "50%            0.000000      0.000000      0.000000      0.000000   \n",
      "75%            0.000000      0.000000      0.000000      0.000000   \n",
      "max            1.000000      1.000000      1.000000      1.000000   \n",
      "\n",
      "       Marca_Hyundai  ...   Modelo_Kona  Modelo_Actyon  Modelo_Clase GL  \\\n",
      "count   17781.000000  ...  17781.000000   17781.000000     17781.000000   \n",
      "mean        0.031213  ...      0.000225       0.000394         0.000112   \n",
      "std         0.173898  ...      0.014997       0.019838         0.010605   \n",
      "min         0.000000  ...      0.000000       0.000000         0.000000   \n",
      "25%         0.000000  ...      0.000000       0.000000         0.000000   \n",
      "50%         0.000000  ...      0.000000       0.000000         0.000000   \n",
      "75%         0.000000  ...      0.000000       0.000000         0.000000   \n",
      "max         1.000000  ...      1.000000       1.000000         1.000000   \n",
      "\n",
      "       Modelo_Grand Santa Fé    Modelo_DS3  Modelo_Mohave  Modelo_F-PACE  \\\n",
      "count           17781.000000  17781.000000   17781.000000   17781.000000   \n",
      "mean                0.000169      0.000112       0.000112       0.000112   \n",
      "std                 0.012988      0.010605       0.010605       0.010605   \n",
      "min                 0.000000      0.000000       0.000000       0.000000   \n",
      "25%                 0.000000      0.000000       0.000000       0.000000   \n",
      "50%                 0.000000      0.000000       0.000000       0.000000   \n",
      "75%                 0.000000      0.000000       0.000000       0.000000   \n",
      "max                 1.000000      1.000000       1.000000       1.000000   \n",
      "\n",
      "         Cilindrada  Transmisión_Manual  vendedor_particular  \n",
      "count  17781.000000        17781.000000         17781.000000  \n",
      "mean       1.817519            0.320792             0.317755  \n",
      "std        0.625942            0.466794             0.465617  \n",
      "min        1.000000            0.000000             0.000000  \n",
      "25%        1.500000            0.000000             0.000000  \n",
      "50%        1.600000            0.000000             0.000000  \n",
      "75%        2.000000            1.000000             1.000000  \n",
      "max        6.400000            1.000000             1.000000  \n",
      "\n",
      "[8 rows x 191 columns]\n",
      "\n",
      "--- Valores Faltantes ---\n",
      "Puertas                0\n",
      "Kilómetros             0\n",
      "Precio_usd             0\n",
      "Antigüedad             0\n",
      "Marca_Ford             0\n",
      "                      ..\n",
      "Transmisión_Manual     0\n",
      "vendedor_particular    0\n",
      "combustible_Diésel     0\n",
      "combustible_Nafta      0\n",
      "combustible_Otros      0\n",
      "Length: 194, dtype: int64\n",
      "\n",
      "--- Distribución de la Variable Objetivo ---\n",
      "Precio_usd\n",
      "15186.541350    0.007255\n",
      "17717.631575    0.007086\n",
      "15608.389720    0.006805\n",
      "25310.902249    0.006299\n",
      "16873.934833    0.006186\n",
      "                  ...   \n",
      "20417.545517    0.000056\n",
      "9591.718273     0.000056\n",
      "15598.265359    0.000056\n",
      "24391.272801    0.000056\n",
      "26956.110895    0.000056\n",
      "Name: proportion, Length: 2815, dtype: float64\n"
     ]
    }
   ],
   "source": [
    "exploratory_analysis(df, target_col=\"Precio_usd\")"
   ]
  },
  {
   "cell_type": "code",
   "execution_count": null,
   "id": "8b8e2591",
   "metadata": {},
   "outputs": [
    {
     "ename": "TypeError",
     "evalue": "ufunc 'divide' not supported for the input types, and the inputs could not be safely coerced to any supported types according to the casting rule ''safe''",
     "output_type": "error",
     "traceback": [
      "\u001b[0;31m---------------------------------------------------------------------------\u001b[0m",
      "\u001b[0;31mTypeError\u001b[0m                                 Traceback (most recent call last)",
      "Cell \u001b[0;32mIn[48], line 9\u001b[0m\n\u001b[1;32m      6\u001b[0m X_val \u001b[38;5;241m=\u001b[39m df_val\u001b[38;5;241m.\u001b[39mdrop(columns\u001b[38;5;241m=\u001b[39m[\u001b[38;5;124m\"\u001b[39m\u001b[38;5;124mPrecio_usd\u001b[39m\u001b[38;5;124m\"\u001b[39m])\u001b[38;5;241m.\u001b[39mvalues\n\u001b[1;32m      8\u001b[0m dp_train \u001b[38;5;241m=\u001b[39m DataProcessor(df_train)\n\u001b[0;32m----> 9\u001b[0m X \u001b[38;5;241m=\u001b[39m \u001b[43mdp_train\u001b[49m\u001b[38;5;241;43m.\u001b[39;49m\u001b[43mnormalize\u001b[49m\u001b[43m(\u001b[49m\u001b[43mX\u001b[49m\u001b[43m)\u001b[49m\n\u001b[1;32m     10\u001b[0m X_val \u001b[38;5;241m=\u001b[39m dp_train\u001b[38;5;241m.\u001b[39mnormalize_new_data(X_val)\n",
      "File \u001b[0;32m~/Documents/UDESA/3 año/1 semestre/aprendizaje/Proyecto Final/src/data_cleaner.py:128\u001b[0m, in \u001b[0;36mDataProcessor.normalize\u001b[0;34m(self, X)\u001b[0m\n\u001b[1;32m    126\u001b[0m \u001b[38;5;28;01mfor\u001b[39;00m i \u001b[38;5;129;01min\u001b[39;00m \u001b[38;5;28mrange\u001b[39m(X\u001b[38;5;241m.\u001b[39mshape[\u001b[38;5;241m1\u001b[39m]):\n\u001b[1;32m    127\u001b[0m     col \u001b[38;5;241m=\u001b[39m X[:, i]\n\u001b[0;32m--> 128\u001b[0m     mean \u001b[38;5;241m=\u001b[39m \u001b[43mcol\u001b[49m\u001b[38;5;241;43m.\u001b[39;49m\u001b[43mmean\u001b[49m\u001b[43m(\u001b[49m\u001b[43m)\u001b[49m\n\u001b[1;32m    129\u001b[0m     std \u001b[38;5;241m=\u001b[39m col\u001b[38;5;241m.\u001b[39mstd()\n\u001b[1;32m    130\u001b[0m     std \u001b[38;5;241m=\u001b[39m \u001b[38;5;241m1\u001b[39m \u001b[38;5;28;01mif\u001b[39;00m std \u001b[38;5;241m==\u001b[39m \u001b[38;5;241m0\u001b[39m \u001b[38;5;28;01melse\u001b[39;00m std\n",
      "File \u001b[0;32m~/Library/Python/3.9/lib/python/site-packages/numpy/_core/_methods.py:140\u001b[0m, in \u001b[0;36m_mean\u001b[0;34m(a, axis, dtype, out, keepdims, where)\u001b[0m\n\u001b[1;32m    138\u001b[0m         ret \u001b[38;5;241m=\u001b[39m ret\u001b[38;5;241m.\u001b[39mdtype\u001b[38;5;241m.\u001b[39mtype(ret \u001b[38;5;241m/\u001b[39m rcount)\n\u001b[1;32m    139\u001b[0m \u001b[38;5;28;01melse\u001b[39;00m:\n\u001b[0;32m--> 140\u001b[0m     ret \u001b[38;5;241m=\u001b[39m \u001b[43mret\u001b[49m\u001b[43m \u001b[49m\u001b[38;5;241;43m/\u001b[39;49m\u001b[43m \u001b[49m\u001b[43mrcount\u001b[49m\n\u001b[1;32m    142\u001b[0m \u001b[38;5;28;01mreturn\u001b[39;00m ret\n",
      "\u001b[0;31mTypeError\u001b[0m: ufunc 'divide' not supported for the input types, and the inputs could not be safely coerced to any supported types according to the casting rule ''safe''"
     ]
    }
   ],
   "source": [
    "\n",
    "\n",
    "\n",
    "df_train = df.sample(frac=0.8, random_state=42)\n",
    "y = df[\"Precio_usd\"].values\n",
    "X = df.drop(columns=[\"Precio_usd\"]).values\n",
    "df_val = df.drop(df_train.index)\n",
    "y_val = df_val[\"Precio_usd\"].values\n",
    "X_val = df_val.drop(columns=[\"Precio_usd\"]).values\n",
    "\n",
    "dp_train = DataProcessor(df_train)\n",
    "X = dp_train.normalize(X)\n",
    "X_val = dp_train.normalize_new_data(X_val)\n"
   ]
  },
  {
   "cell_type": "code",
   "execution_count": null,
   "id": "30f5c81e",
   "metadata": {},
   "outputs": [
    {
     "name": "stdout",
     "output_type": "stream",
     "text": [
      "(17781, 9) (17781,)\n",
      "(3556, 9) (3556,)\n"
     ]
    }
   ],
   "source": [
    "print(X.shape, y.shape)\n",
    "print(X_val.shape, y_val.shape)"
   ]
  },
  {
   "cell_type": "code",
   "execution_count": null,
   "id": "69581f14",
   "metadata": {},
   "outputs": [],
   "source": [
    "from models.linear_regression import LinearReg"
   ]
  },
  {
   "cell_type": "code",
   "execution_count": null,
   "id": "9f90a3af",
   "metadata": {},
   "outputs": [
    {
     "name": "stdout",
     "output_type": "stream",
     "text": [
      "RMSE: 15702.69\n"
     ]
    }
   ],
   "source": [
    "model = LinearReg(X, y,0, 0.001)\n",
    "model.train_gd(0.01, 1000, \"l2\")\n",
    "y_pred = model.predict(X_val)\n",
    "rmse = model.rmse(y_val, y_pred)\n",
    "print(f\"RMSE: {rmse:.2f}\")\n"
   ]
  },
  {
   "cell_type": "code",
   "execution_count": null,
   "id": "a2689dac",
   "metadata": {},
   "outputs": [
    {
     "name": "stdout",
     "output_type": "stream",
     "text": [
      "RMSE con Pseudo-inversa: 15701.61\n"
     ]
    }
   ],
   "source": [
    "model.train_pinv(\"l2\")\n",
    "y_pred_pinv = model.predict(X_val)\n",
    "rmse_pinv = model.rmse(y_val, y_pred_pinv)\n",
    "print(f\"RMSE con Pseudo-inversa: {rmse_pinv:.2f}\")\n"
   ]
  },
  {
   "cell_type": "code",
   "execution_count": null,
   "id": "698de722",
   "metadata": {},
   "outputs": [
    {
     "name": "stdout",
     "output_type": "stream",
     "text": [
      "RMSE con Pseudo-inversa: 15703.17\n"
     ]
    }
   ],
   "source": [
    "model.train_pinv()\n",
    "y_pred_pinv = model.predict(X_val)\n",
    "rmse_pinv = model.rmse(y_val, y_pred_pinv)\n",
    "print(f\"RMSE con Pseudo-inversa: {rmse_pinv:.2f}\")\n"
   ]
  },
  {
   "cell_type": "code",
   "execution_count": null,
   "id": "c651e0f9",
   "metadata": {},
   "outputs": [],
   "source": [
    "import matplotlib.pyplot as plt\n",
    "\n",
    "plt.scatter(y_val, y_pred_test, alpha=0.3)\n",
    "plt.xlabel(\"Precio real\")\n",
    "plt.ylabel(\"Precio predicho\")\n",
    "plt.title(\"Predicción vs Realidad\")\n",
    "plt.plot([y_test.min(), y_test.max()], [y_test.min(), y_test.max()], \"r--\")\n",
    "plt.show()\n"
   ]
  }
 ],
 "metadata": {
  "kernelspec": {
   "display_name": "Python 3",
   "language": "python",
   "name": "python3"
  },
  "language_info": {
   "codemirror_mode": {
    "name": "ipython",
    "version": 3
   },
   "file_extension": ".py",
   "mimetype": "text/x-python",
   "name": "python",
   "nbconvert_exporter": "python",
   "pygments_lexer": "ipython3",
   "version": "3.9.6"
  }
 },
 "nbformat": 4,
 "nbformat_minor": 5
}
